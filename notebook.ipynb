{
 "cells": [
  {
   "cell_type": "markdown",
   "id": "b6bb71db-d177-4226-a70e-f1340d7c5a3a",
   "metadata": {},
   "source": [
    "## Help your hedge fund manager!\n",
    "\n",
    "You have two datasets at your disposal: `Balance_Sheet.xlsx` and `Income_Statement.xlsx`. Both these datasets have three columns in common:\n",
    "- `\"Company\"`: The company's ticker name.\n",
    "- `\"comp_type\"` The type of industry the company in question belongs to. It is either `\"tech\"` for companies in the technology industry, `\"fmcg\"` for companies in the fast-moving consumer goods industry, and `\"real_est\"` for companies in the real estate industry. \n",
    "- `\"Year\"`: The year the company's information is from.\n",
    "\n",
    "The rest of the columns in the datasets contain information from the financial statement of the `\"Company\"` in question. Note that the columns in `Balance_Sheet.xlsx` only contain financial information from the balance sheet. Similarly, the columns in `Income_Statement.xlsx` only contain financial information from the income statement. The columns are named accordingly. For instance, the column `\"Total Liab\"` from `Balance_Sheet.xlsx` is the total liability."
   ]
  },
  {
   "cell_type": "code",
   "execution_count": 93,
   "id": "55d2a777-02c9-4448-8ecf-bff17c2e2aa1",
   "metadata": {
    "executionCancelledAt": null,
    "executionTime": 52,
    "lastExecutedAt": 1739109660904,
    "lastExecutedByKernel": "a7a199a3-c06b-45e7-905c-a0b5190ca34f",
    "lastScheduledRunId": null,
    "lastSuccessfullyExecutedCode": "import numpy as np\nimport pandas as pd\nimport seaborn as sns",
    "outputsMetadata": {
     "0": {
      "height": 211,
      "type": "stream"
     }
    }
   },
   "outputs": [],
   "source": [
    "import numpy as np\n",
    "import pandas as pd\n",
    "import seaborn as sns"
   ]
  },
  {
   "cell_type": "markdown",
   "id": "1b8d16da-fd90-417e-abd2-8252a4e1c6c8",
   "metadata": {},
   "source": [
    "# **1.Importing data**"
   ]
  },
  {
   "cell_type": "code",
   "execution_count": 94,
   "id": "d6af7cb1-f557-4147-b786-9bd2bf35a3cf",
   "metadata": {
    "executionCancelledAt": null,
    "executionTime": 63,
    "lastExecutedAt": 1739109660967,
    "lastExecutedByKernel": "a7a199a3-c06b-45e7-905c-a0b5190ca34f",
    "lastScheduledRunId": null,
    "lastSuccessfullyExecutedCode": "# Read the Balance_Sheet.xlsx file into a DataFrame\nbalance_sheet_df = pd.read_excel(\"data/Balance_Sheet.xlsx\")\nbalance_sheet_df.head()",
    "outputsMetadata": {
     "0": {
      "height": 50,
      "tableState": {
       "customFilter": {
        "const": {
         "type": "boolean",
         "valid": true,
         "value": true
        },
        "id": "ecb6c4cd-b4e6-4d3b-a068-35adfa7af095",
        "nodeType": "const"
       },
       "quickFilterText": ""
      },
      "type": "dataFrame"
     }
    }
   },
   "outputs": [
    {
     "data": {
      "application/com.datacamp.data-table.v2+json": {
       "table": {
        "data": {
         "Accounts Payable": [
          46236000000,
          42296000000,
          54763000000,
          64115000000,
          9382000000
         ],
         "Cash": [
          48844000000,
          38016000000,
          34940000000,
          23646000000,
          11356000000
         ],
         "Inventory": [
          4106000000,
          4061000000,
          6580000000,
          4946000000,
          2063000000
         ],
         "Property Plant Equipment": [
          37378000000,
          45336000000,
          49527000000,
          84234000000,
          43856000000
         ],
         "Short Term Investments": [
          51713000000,
          52927000000,
          27699000000,
          24658000000,
          122476000000
         ],
         "Total Assets": [
          338516000000,
          323888000000,
          351002000000,
          352755000000,
          286556000000
         ],
         "Total Current Assets": [
          162819000000,
          143713000000,
          134836000000,
          135405000000,
          175552000000
         ],
         "Total Current Liabilities": [
          105718000000,
          105392000000,
          125481000000,
          153982000000,
          69420000000
         ],
         "Total Liab": [
          248028000000,
          258549000000,
          287912000000,
          302083000000,
          184226000000
         ],
         "Total Stockholder Equity": [
          90488000000,
          65339000000,
          63090000000,
          50672000000,
          102330000000
         ],
         "Unnamed: 0": [
          0,
          1,
          2,
          3,
          4
         ],
         "Year": [
          2019,
          2020,
          2021,
          2022,
          2019
         ],
         "comp_type": [
          "tech",
          "tech",
          "tech",
          "tech",
          "tech"
         ],
         "company": [
          "AAPL",
          "AAPL",
          "AAPL",
          "AAPL",
          "MSFT"
         ],
         "index": [
          0,
          1,
          2,
          3,
          4
         ]
        },
        "schema": {
         "fields": [
          {
           "name": "index",
           "type": "integer"
          },
          {
           "name": "Unnamed: 0",
           "type": "integer"
          },
          {
           "name": "Year",
           "type": "integer"
          },
          {
           "name": "comp_type",
           "type": "string"
          },
          {
           "name": "company",
           "type": "string"
          },
          {
           "name": "Accounts Payable",
           "type": "integer"
          },
          {
           "name": "Cash",
           "type": "integer"
          },
          {
           "name": "Inventory",
           "type": "number"
          },
          {
           "name": "Property Plant Equipment",
           "type": "integer"
          },
          {
           "name": "Short Term Investments",
           "type": "number"
          },
          {
           "name": "Total Assets",
           "type": "integer"
          },
          {
           "name": "Total Current Assets",
           "type": "integer"
          },
          {
           "name": "Total Current Liabilities",
           "type": "integer"
          },
          {
           "name": "Total Liab",
           "type": "integer"
          },
          {
           "name": "Total Stockholder Equity",
           "type": "integer"
          }
         ],
         "pandas_version": "1.4.0",
         "primaryKey": [
          "index"
         ]
        }
       },
       "total_rows": 5,
       "truncation_type": null
      },
      "text/html": [
       "<div>\n",
       "<style scoped>\n",
       "    .dataframe tbody tr th:only-of-type {\n",
       "        vertical-align: middle;\n",
       "    }\n",
       "\n",
       "    .dataframe tbody tr th {\n",
       "        vertical-align: top;\n",
       "    }\n",
       "\n",
       "    .dataframe thead th {\n",
       "        text-align: right;\n",
       "    }\n",
       "</style>\n",
       "<table border=\"1\" class=\"dataframe\">\n",
       "  <thead>\n",
       "    <tr style=\"text-align: right;\">\n",
       "      <th></th>\n",
       "      <th>Unnamed: 0</th>\n",
       "      <th>Year</th>\n",
       "      <th>comp_type</th>\n",
       "      <th>company</th>\n",
       "      <th>Accounts Payable</th>\n",
       "      <th>Cash</th>\n",
       "      <th>Inventory</th>\n",
       "      <th>Property Plant Equipment</th>\n",
       "      <th>Short Term Investments</th>\n",
       "      <th>Total Assets</th>\n",
       "      <th>Total Current Assets</th>\n",
       "      <th>Total Current Liabilities</th>\n",
       "      <th>Total Liab</th>\n",
       "      <th>Total Stockholder Equity</th>\n",
       "    </tr>\n",
       "  </thead>\n",
       "  <tbody>\n",
       "    <tr>\n",
       "      <th>0</th>\n",
       "      <td>0</td>\n",
       "      <td>2019</td>\n",
       "      <td>tech</td>\n",
       "      <td>AAPL</td>\n",
       "      <td>46236000000</td>\n",
       "      <td>48844000000</td>\n",
       "      <td>4.106000e+09</td>\n",
       "      <td>37378000000</td>\n",
       "      <td>5.171300e+10</td>\n",
       "      <td>338516000000</td>\n",
       "      <td>162819000000</td>\n",
       "      <td>105718000000</td>\n",
       "      <td>248028000000</td>\n",
       "      <td>90488000000</td>\n",
       "    </tr>\n",
       "    <tr>\n",
       "      <th>1</th>\n",
       "      <td>1</td>\n",
       "      <td>2020</td>\n",
       "      <td>tech</td>\n",
       "      <td>AAPL</td>\n",
       "      <td>42296000000</td>\n",
       "      <td>38016000000</td>\n",
       "      <td>4.061000e+09</td>\n",
       "      <td>45336000000</td>\n",
       "      <td>5.292700e+10</td>\n",
       "      <td>323888000000</td>\n",
       "      <td>143713000000</td>\n",
       "      <td>105392000000</td>\n",
       "      <td>258549000000</td>\n",
       "      <td>65339000000</td>\n",
       "    </tr>\n",
       "    <tr>\n",
       "      <th>2</th>\n",
       "      <td>2</td>\n",
       "      <td>2021</td>\n",
       "      <td>tech</td>\n",
       "      <td>AAPL</td>\n",
       "      <td>54763000000</td>\n",
       "      <td>34940000000</td>\n",
       "      <td>6.580000e+09</td>\n",
       "      <td>49527000000</td>\n",
       "      <td>2.769900e+10</td>\n",
       "      <td>351002000000</td>\n",
       "      <td>134836000000</td>\n",
       "      <td>125481000000</td>\n",
       "      <td>287912000000</td>\n",
       "      <td>63090000000</td>\n",
       "    </tr>\n",
       "    <tr>\n",
       "      <th>3</th>\n",
       "      <td>3</td>\n",
       "      <td>2022</td>\n",
       "      <td>tech</td>\n",
       "      <td>AAPL</td>\n",
       "      <td>64115000000</td>\n",
       "      <td>23646000000</td>\n",
       "      <td>4.946000e+09</td>\n",
       "      <td>84234000000</td>\n",
       "      <td>2.465800e+10</td>\n",
       "      <td>352755000000</td>\n",
       "      <td>135405000000</td>\n",
       "      <td>153982000000</td>\n",
       "      <td>302083000000</td>\n",
       "      <td>50672000000</td>\n",
       "    </tr>\n",
       "    <tr>\n",
       "      <th>4</th>\n",
       "      <td>4</td>\n",
       "      <td>2019</td>\n",
       "      <td>tech</td>\n",
       "      <td>MSFT</td>\n",
       "      <td>9382000000</td>\n",
       "      <td>11356000000</td>\n",
       "      <td>2.063000e+09</td>\n",
       "      <td>43856000000</td>\n",
       "      <td>1.224760e+11</td>\n",
       "      <td>286556000000</td>\n",
       "      <td>175552000000</td>\n",
       "      <td>69420000000</td>\n",
       "      <td>184226000000</td>\n",
       "      <td>102330000000</td>\n",
       "    </tr>\n",
       "  </tbody>\n",
       "</table>\n",
       "</div>"
      ],
      "text/plain": [
       "   Unnamed: 0  Year  ...    Total Liab Total Stockholder Equity\n",
       "0           0  2019  ...  248028000000              90488000000\n",
       "1           1  2020  ...  258549000000              65339000000\n",
       "2           2  2021  ...  287912000000              63090000000\n",
       "3           3  2022  ...  302083000000              50672000000\n",
       "4           4  2019  ...  184226000000             102330000000\n",
       "\n",
       "[5 rows x 14 columns]"
      ]
     },
     "execution_count": 94,
     "metadata": {
      "application/com.datacamp.data-table.v2+json": {
       "status": "success"
      }
     },
     "output_type": "execute_result"
    }
   ],
   "source": [
    "# Read the Balance_Sheet.xlsx file into a DataFrame\n",
    "balance_sheet_df = pd.read_excel(\"data/Balance_Sheet.xlsx\")\n",
    "balance_sheet_df.head()"
   ]
  },
  {
   "cell_type": "code",
   "execution_count": 95,
   "id": "c94c4813-f3bd-4617-a344-844335ba980c",
   "metadata": {
    "executionCancelledAt": null,
    "executionTime": null,
    "lastExecutedAt": null,
    "lastExecutedByKernel": null,
    "lastScheduledRunId": null,
    "lastSuccessfullyExecutedCode": null,
    "outputsMetadata": {
     "0": {
      "height": 50,
      "tableState": {
       "customFilter": {
        "const": {
         "type": "boolean",
         "valid": true,
         "value": true
        },
        "id": "ecb6c4cd-b4e6-4d3b-a068-35adfa7af095",
        "nodeType": "const"
       },
       "quickFilterText": ""
      },
      "type": "dataFrame"
     }
    }
   },
   "outputs": [
    {
     "data": {
      "application/com.datacamp.data-table.v2+json": {
       "table": {
        "data": {
         "Cost Of Goods Sold": [
          161782000000,
          169559000000,
          212981000000,
          223546000000,
          42910000000
         ],
         "Gross Profit": [
          98392000000,
          104956000000,
          152836000000,
          170782000000,
          82933000000
         ],
         "Operating Income": [
          63930000000,
          66288000000,
          108949000000,
          119437000000,
          42959000000
         ],
         "Total Operating Expenses": [
          196244000000,
          208227000000,
          256868000000,
          274891000000,
          82884000000
         ],
         "Total Revenue": [
          260174000000,
          274515000000,
          365817000000,
          394328000000,
          125843000000
         ],
         "Unnamed: 0": [
          0,
          1,
          2,
          3,
          4
         ],
         "Year": [
          2019,
          2020,
          2021,
          2022,
          2019
         ],
         "comp_type": [
          "tech",
          "tech",
          "tech",
          "tech",
          "tech"
         ],
         "company": [
          "AAPL",
          "AAPL",
          "AAPL",
          "AAPL",
          "MSFT"
         ],
         "index": [
          0,
          1,
          2,
          3,
          4
         ]
        },
        "schema": {
         "fields": [
          {
           "name": "index",
           "type": "integer"
          },
          {
           "name": "Unnamed: 0",
           "type": "integer"
          },
          {
           "name": "Year",
           "type": "integer"
          },
          {
           "name": "comp_type",
           "type": "string"
          },
          {
           "name": "company",
           "type": "string"
          },
          {
           "name": "Cost Of Goods Sold",
           "type": "integer"
          },
          {
           "name": "Gross Profit",
           "type": "integer"
          },
          {
           "name": "Operating Income",
           "type": "integer"
          },
          {
           "name": "Total Operating Expenses",
           "type": "integer"
          },
          {
           "name": "Total Revenue",
           "type": "integer"
          }
         ],
         "pandas_version": "1.4.0",
         "primaryKey": [
          "index"
         ]
        }
       },
       "total_rows": 5,
       "truncation_type": null
      },
      "text/html": [
       "<div>\n",
       "<style scoped>\n",
       "    .dataframe tbody tr th:only-of-type {\n",
       "        vertical-align: middle;\n",
       "    }\n",
       "\n",
       "    .dataframe tbody tr th {\n",
       "        vertical-align: top;\n",
       "    }\n",
       "\n",
       "    .dataframe thead th {\n",
       "        text-align: right;\n",
       "    }\n",
       "</style>\n",
       "<table border=\"1\" class=\"dataframe\">\n",
       "  <thead>\n",
       "    <tr style=\"text-align: right;\">\n",
       "      <th></th>\n",
       "      <th>Unnamed: 0</th>\n",
       "      <th>Year</th>\n",
       "      <th>comp_type</th>\n",
       "      <th>company</th>\n",
       "      <th>Cost Of Goods Sold</th>\n",
       "      <th>Gross Profit</th>\n",
       "      <th>Operating Income</th>\n",
       "      <th>Total Operating Expenses</th>\n",
       "      <th>Total Revenue</th>\n",
       "    </tr>\n",
       "  </thead>\n",
       "  <tbody>\n",
       "    <tr>\n",
       "      <th>0</th>\n",
       "      <td>0</td>\n",
       "      <td>2019</td>\n",
       "      <td>tech</td>\n",
       "      <td>AAPL</td>\n",
       "      <td>161782000000</td>\n",
       "      <td>98392000000</td>\n",
       "      <td>63930000000</td>\n",
       "      <td>196244000000</td>\n",
       "      <td>260174000000</td>\n",
       "    </tr>\n",
       "    <tr>\n",
       "      <th>1</th>\n",
       "      <td>1</td>\n",
       "      <td>2020</td>\n",
       "      <td>tech</td>\n",
       "      <td>AAPL</td>\n",
       "      <td>169559000000</td>\n",
       "      <td>104956000000</td>\n",
       "      <td>66288000000</td>\n",
       "      <td>208227000000</td>\n",
       "      <td>274515000000</td>\n",
       "    </tr>\n",
       "    <tr>\n",
       "      <th>2</th>\n",
       "      <td>2</td>\n",
       "      <td>2021</td>\n",
       "      <td>tech</td>\n",
       "      <td>AAPL</td>\n",
       "      <td>212981000000</td>\n",
       "      <td>152836000000</td>\n",
       "      <td>108949000000</td>\n",
       "      <td>256868000000</td>\n",
       "      <td>365817000000</td>\n",
       "    </tr>\n",
       "    <tr>\n",
       "      <th>3</th>\n",
       "      <td>3</td>\n",
       "      <td>2022</td>\n",
       "      <td>tech</td>\n",
       "      <td>AAPL</td>\n",
       "      <td>223546000000</td>\n",
       "      <td>170782000000</td>\n",
       "      <td>119437000000</td>\n",
       "      <td>274891000000</td>\n",
       "      <td>394328000000</td>\n",
       "    </tr>\n",
       "    <tr>\n",
       "      <th>4</th>\n",
       "      <td>4</td>\n",
       "      <td>2019</td>\n",
       "      <td>tech</td>\n",
       "      <td>MSFT</td>\n",
       "      <td>42910000000</td>\n",
       "      <td>82933000000</td>\n",
       "      <td>42959000000</td>\n",
       "      <td>82884000000</td>\n",
       "      <td>125843000000</td>\n",
       "    </tr>\n",
       "  </tbody>\n",
       "</table>\n",
       "</div>"
      ],
      "text/plain": [
       "   Unnamed: 0  Year  ... Total Operating Expenses Total Revenue\n",
       "0           0  2019  ...             196244000000  260174000000\n",
       "1           1  2020  ...             208227000000  274515000000\n",
       "2           2  2021  ...             256868000000  365817000000\n",
       "3           3  2022  ...             274891000000  394328000000\n",
       "4           4  2019  ...              82884000000  125843000000\n",
       "\n",
       "[5 rows x 9 columns]"
      ]
     },
     "execution_count": 95,
     "metadata": {
      "application/com.datacamp.data-table.v2+json": {
       "status": "success"
      }
     },
     "output_type": "execute_result"
    }
   ],
   "source": [
    "income_statement_df = pd.read_excel(\"data/Income_Statement.xlsx\")\n",
    "income_statement_df.head()"
   ]
  },
  {
   "cell_type": "markdown",
   "id": "1b2a817b-eb2b-4960-a08b-71cc9f182414",
   "metadata": {},
   "source": [
    "# **2.Merge Dataframes**"
   ]
  },
  {
   "cell_type": "code",
   "execution_count": 96,
   "id": "14aef276-f1b9-4a93-ae81-1630ada71087",
   "metadata": {
    "executionCancelledAt": null,
    "executionTime": 48,
    "lastExecutedAt": 1739109661064,
    "lastExecutedByKernel": "a7a199a3-c06b-45e7-905c-a0b5190ca34f",
    "lastScheduledRunId": null,
    "lastSuccessfullyExecutedCode": "df_ratios = pd.merge(balance_sheet_df,income_statement_df, on=[\"Year\", \"company\",\"comp_type\"])\ndf_ratios.head()",
    "outputsMetadata": {
     "0": {
      "height": 50,
      "tableState": {
       "customFilter": {
        "const": {
         "type": "boolean",
         "valid": true,
         "value": true
        },
        "id": "ecb6c4cd-b4e6-4d3b-a068-35adfa7af095",
        "nodeType": "const"
       },
       "quickFilterText": ""
      },
      "type": "dataFrame"
     }
    }
   },
   "outputs": [
    {
     "data": {
      "application/com.datacamp.data-table.v2+json": {
       "table": {
        "data": {
         "Accounts Payable": [
          46236000000,
          42296000000,
          54763000000,
          64115000000,
          9382000000
         ],
         "Cash": [
          48844000000,
          38016000000,
          34940000000,
          23646000000,
          11356000000
         ],
         "Cost Of Goods Sold": [
          161782000000,
          169559000000,
          212981000000,
          223546000000,
          42910000000
         ],
         "Gross Profit": [
          98392000000,
          104956000000,
          152836000000,
          170782000000,
          82933000000
         ],
         "Inventory": [
          4106000000,
          4061000000,
          6580000000,
          4946000000,
          2063000000
         ],
         "Operating Income": [
          63930000000,
          66288000000,
          108949000000,
          119437000000,
          42959000000
         ],
         "Property Plant Equipment": [
          37378000000,
          45336000000,
          49527000000,
          84234000000,
          43856000000
         ],
         "Short Term Investments": [
          51713000000,
          52927000000,
          27699000000,
          24658000000,
          122476000000
         ],
         "Total Assets": [
          338516000000,
          323888000000,
          351002000000,
          352755000000,
          286556000000
         ],
         "Total Current Assets": [
          162819000000,
          143713000000,
          134836000000,
          135405000000,
          175552000000
         ],
         "Total Current Liabilities": [
          105718000000,
          105392000000,
          125481000000,
          153982000000,
          69420000000
         ],
         "Total Liab": [
          248028000000,
          258549000000,
          287912000000,
          302083000000,
          184226000000
         ],
         "Total Operating Expenses": [
          196244000000,
          208227000000,
          256868000000,
          274891000000,
          82884000000
         ],
         "Total Revenue": [
          260174000000,
          274515000000,
          365817000000,
          394328000000,
          125843000000
         ],
         "Total Stockholder Equity": [
          90488000000,
          65339000000,
          63090000000,
          50672000000,
          102330000000
         ],
         "Unnamed: 0_x": [
          0,
          1,
          2,
          3,
          4
         ],
         "Unnamed: 0_y": [
          0,
          1,
          2,
          3,
          4
         ],
         "Year": [
          2019,
          2020,
          2021,
          2022,
          2019
         ],
         "comp_type": [
          "tech",
          "tech",
          "tech",
          "tech",
          "tech"
         ],
         "company": [
          "AAPL",
          "AAPL",
          "AAPL",
          "AAPL",
          "MSFT"
         ],
         "index": [
          0,
          1,
          2,
          3,
          4
         ]
        },
        "schema": {
         "fields": [
          {
           "name": "index",
           "type": "integer"
          },
          {
           "name": "Unnamed: 0_x",
           "type": "integer"
          },
          {
           "name": "Year",
           "type": "integer"
          },
          {
           "name": "comp_type",
           "type": "string"
          },
          {
           "name": "company",
           "type": "string"
          },
          {
           "name": "Accounts Payable",
           "type": "integer"
          },
          {
           "name": "Cash",
           "type": "integer"
          },
          {
           "name": "Inventory",
           "type": "number"
          },
          {
           "name": "Property Plant Equipment",
           "type": "integer"
          },
          {
           "name": "Short Term Investments",
           "type": "number"
          },
          {
           "name": "Total Assets",
           "type": "integer"
          },
          {
           "name": "Total Current Assets",
           "type": "integer"
          },
          {
           "name": "Total Current Liabilities",
           "type": "integer"
          },
          {
           "name": "Total Liab",
           "type": "integer"
          },
          {
           "name": "Total Stockholder Equity",
           "type": "integer"
          },
          {
           "name": "Unnamed: 0_y",
           "type": "integer"
          },
          {
           "name": "Cost Of Goods Sold",
           "type": "integer"
          },
          {
           "name": "Gross Profit",
           "type": "integer"
          },
          {
           "name": "Operating Income",
           "type": "integer"
          },
          {
           "name": "Total Operating Expenses",
           "type": "integer"
          },
          {
           "name": "Total Revenue",
           "type": "integer"
          }
         ],
         "pandas_version": "1.4.0",
         "primaryKey": [
          "index"
         ]
        }
       },
       "total_rows": 5,
       "truncation_type": null
      },
      "text/html": [
       "<div>\n",
       "<style scoped>\n",
       "    .dataframe tbody tr th:only-of-type {\n",
       "        vertical-align: middle;\n",
       "    }\n",
       "\n",
       "    .dataframe tbody tr th {\n",
       "        vertical-align: top;\n",
       "    }\n",
       "\n",
       "    .dataframe thead th {\n",
       "        text-align: right;\n",
       "    }\n",
       "</style>\n",
       "<table border=\"1\" class=\"dataframe\">\n",
       "  <thead>\n",
       "    <tr style=\"text-align: right;\">\n",
       "      <th></th>\n",
       "      <th>Unnamed: 0_x</th>\n",
       "      <th>Year</th>\n",
       "      <th>comp_type</th>\n",
       "      <th>company</th>\n",
       "      <th>Accounts Payable</th>\n",
       "      <th>Cash</th>\n",
       "      <th>Inventory</th>\n",
       "      <th>Property Plant Equipment</th>\n",
       "      <th>Short Term Investments</th>\n",
       "      <th>Total Assets</th>\n",
       "      <th>Total Current Assets</th>\n",
       "      <th>Total Current Liabilities</th>\n",
       "      <th>Total Liab</th>\n",
       "      <th>Total Stockholder Equity</th>\n",
       "      <th>Unnamed: 0_y</th>\n",
       "      <th>Cost Of Goods Sold</th>\n",
       "      <th>Gross Profit</th>\n",
       "      <th>Operating Income</th>\n",
       "      <th>Total Operating Expenses</th>\n",
       "      <th>Total Revenue</th>\n",
       "    </tr>\n",
       "  </thead>\n",
       "  <tbody>\n",
       "    <tr>\n",
       "      <th>0</th>\n",
       "      <td>0</td>\n",
       "      <td>2019</td>\n",
       "      <td>tech</td>\n",
       "      <td>AAPL</td>\n",
       "      <td>46236000000</td>\n",
       "      <td>48844000000</td>\n",
       "      <td>4.106000e+09</td>\n",
       "      <td>37378000000</td>\n",
       "      <td>5.171300e+10</td>\n",
       "      <td>338516000000</td>\n",
       "      <td>162819000000</td>\n",
       "      <td>105718000000</td>\n",
       "      <td>248028000000</td>\n",
       "      <td>90488000000</td>\n",
       "      <td>0</td>\n",
       "      <td>161782000000</td>\n",
       "      <td>98392000000</td>\n",
       "      <td>63930000000</td>\n",
       "      <td>196244000000</td>\n",
       "      <td>260174000000</td>\n",
       "    </tr>\n",
       "    <tr>\n",
       "      <th>1</th>\n",
       "      <td>1</td>\n",
       "      <td>2020</td>\n",
       "      <td>tech</td>\n",
       "      <td>AAPL</td>\n",
       "      <td>42296000000</td>\n",
       "      <td>38016000000</td>\n",
       "      <td>4.061000e+09</td>\n",
       "      <td>45336000000</td>\n",
       "      <td>5.292700e+10</td>\n",
       "      <td>323888000000</td>\n",
       "      <td>143713000000</td>\n",
       "      <td>105392000000</td>\n",
       "      <td>258549000000</td>\n",
       "      <td>65339000000</td>\n",
       "      <td>1</td>\n",
       "      <td>169559000000</td>\n",
       "      <td>104956000000</td>\n",
       "      <td>66288000000</td>\n",
       "      <td>208227000000</td>\n",
       "      <td>274515000000</td>\n",
       "    </tr>\n",
       "    <tr>\n",
       "      <th>2</th>\n",
       "      <td>2</td>\n",
       "      <td>2021</td>\n",
       "      <td>tech</td>\n",
       "      <td>AAPL</td>\n",
       "      <td>54763000000</td>\n",
       "      <td>34940000000</td>\n",
       "      <td>6.580000e+09</td>\n",
       "      <td>49527000000</td>\n",
       "      <td>2.769900e+10</td>\n",
       "      <td>351002000000</td>\n",
       "      <td>134836000000</td>\n",
       "      <td>125481000000</td>\n",
       "      <td>287912000000</td>\n",
       "      <td>63090000000</td>\n",
       "      <td>2</td>\n",
       "      <td>212981000000</td>\n",
       "      <td>152836000000</td>\n",
       "      <td>108949000000</td>\n",
       "      <td>256868000000</td>\n",
       "      <td>365817000000</td>\n",
       "    </tr>\n",
       "    <tr>\n",
       "      <th>3</th>\n",
       "      <td>3</td>\n",
       "      <td>2022</td>\n",
       "      <td>tech</td>\n",
       "      <td>AAPL</td>\n",
       "      <td>64115000000</td>\n",
       "      <td>23646000000</td>\n",
       "      <td>4.946000e+09</td>\n",
       "      <td>84234000000</td>\n",
       "      <td>2.465800e+10</td>\n",
       "      <td>352755000000</td>\n",
       "      <td>135405000000</td>\n",
       "      <td>153982000000</td>\n",
       "      <td>302083000000</td>\n",
       "      <td>50672000000</td>\n",
       "      <td>3</td>\n",
       "      <td>223546000000</td>\n",
       "      <td>170782000000</td>\n",
       "      <td>119437000000</td>\n",
       "      <td>274891000000</td>\n",
       "      <td>394328000000</td>\n",
       "    </tr>\n",
       "    <tr>\n",
       "      <th>4</th>\n",
       "      <td>4</td>\n",
       "      <td>2019</td>\n",
       "      <td>tech</td>\n",
       "      <td>MSFT</td>\n",
       "      <td>9382000000</td>\n",
       "      <td>11356000000</td>\n",
       "      <td>2.063000e+09</td>\n",
       "      <td>43856000000</td>\n",
       "      <td>1.224760e+11</td>\n",
       "      <td>286556000000</td>\n",
       "      <td>175552000000</td>\n",
       "      <td>69420000000</td>\n",
       "      <td>184226000000</td>\n",
       "      <td>102330000000</td>\n",
       "      <td>4</td>\n",
       "      <td>42910000000</td>\n",
       "      <td>82933000000</td>\n",
       "      <td>42959000000</td>\n",
       "      <td>82884000000</td>\n",
       "      <td>125843000000</td>\n",
       "    </tr>\n",
       "  </tbody>\n",
       "</table>\n",
       "</div>"
      ],
      "text/plain": [
       "   Unnamed: 0_x  Year  ... Total Operating Expenses Total Revenue\n",
       "0             0  2019  ...             196244000000  260174000000\n",
       "1             1  2020  ...             208227000000  274515000000\n",
       "2             2  2021  ...             256868000000  365817000000\n",
       "3             3  2022  ...             274891000000  394328000000\n",
       "4             4  2019  ...              82884000000  125843000000\n",
       "\n",
       "[5 rows x 20 columns]"
      ]
     },
     "execution_count": 96,
     "metadata": {
      "application/com.datacamp.data-table.v2+json": {
       "status": "success"
      }
     },
     "output_type": "execute_result"
    }
   ],
   "source": [
    "df_ratios = pd.merge(balance_sheet_df,income_statement_df, on=[\"Year\", \"company\",\"comp_type\"])\n",
    "df_ratios.head()"
   ]
  },
  {
   "cell_type": "code",
   "execution_count": 97,
   "id": "27ff0c77-ad8e-4bd2-9c55-10c8e0e73cc3",
   "metadata": {
    "chartConfig": {
     "bar": {
      "hasRoundedCorners": true,
      "stacked": false
     },
     "type": "bar",
     "version": "v1",
     "x": {
      "field": "company",
      "type": "string"
     },
     "y": {
      "field": "leverage",
      "type": "number"
     }
    },
    "executionCancelledAt": null,
    "executionTime": 57,
    "lastExecutedAt": 1739109661121,
    "lastExecutedByKernel": "a7a199a3-c06b-45e7-905c-a0b5190ca34f",
    "lastScheduledRunId": null,
    "lastSuccessfullyExecutedCode": "df_ratios[\"leverage_ratio\"] = df_ratios[\"Total Assets\"]/df_ratios[\"Total Stockholder Equity\"]\ndf_ratios.head()",
    "outputsMetadata": {
     "0": {
      "height": 50,
      "tableState": {
       "columnVisibility": {
        "hiddenColIds": []
       },
       "customFilter": {
        "const": {
         "type": "boolean",
         "valid": true,
         "value": true
        },
        "id": "ecb6c4cd-b4e6-4d3b-a068-35adfa7af095",
        "nodeType": "const"
       },
       "quickFilterText": ""
      },
      "type": "dataFrame"
     }
    },
    "visualizeDataframe": false
   },
   "outputs": [
    {
     "data": {
      "application/com.datacamp.data-table.v2+json": {
       "table": {
        "data": {
         "Accounts Payable": [
          46236000000,
          42296000000,
          54763000000,
          64115000000,
          9382000000
         ],
         "Cash": [
          48844000000,
          38016000000,
          34940000000,
          23646000000,
          11356000000
         ],
         "Cost Of Goods Sold": [
          161782000000,
          169559000000,
          212981000000,
          223546000000,
          42910000000
         ],
         "Gross Profit": [
          98392000000,
          104956000000,
          152836000000,
          170782000000,
          82933000000
         ],
         "Inventory": [
          4106000000,
          4061000000,
          6580000000,
          4946000000,
          2063000000
         ],
         "Operating Income": [
          63930000000,
          66288000000,
          108949000000,
          119437000000,
          42959000000
         ],
         "Property Plant Equipment": [
          37378000000,
          45336000000,
          49527000000,
          84234000000,
          43856000000
         ],
         "Short Term Investments": [
          51713000000,
          52927000000,
          27699000000,
          24658000000,
          122476000000
         ],
         "Total Assets": [
          338516000000,
          323888000000,
          351002000000,
          352755000000,
          286556000000
         ],
         "Total Current Assets": [
          162819000000,
          143713000000,
          134836000000,
          135405000000,
          175552000000
         ],
         "Total Current Liabilities": [
          105718000000,
          105392000000,
          125481000000,
          153982000000,
          69420000000
         ],
         "Total Liab": [
          248028000000,
          258549000000,
          287912000000,
          302083000000,
          184226000000
         ],
         "Total Operating Expenses": [
          196244000000,
          208227000000,
          256868000000,
          274891000000,
          82884000000
         ],
         "Total Revenue": [
          260174000000,
          274515000000,
          365817000000,
          394328000000,
          125843000000
         ],
         "Total Stockholder Equity": [
          90488000000,
          65339000000,
          63090000000,
          50672000000,
          102330000000
         ],
         "Unnamed: 0_x": [
          0,
          1,
          2,
          3,
          4
         ],
         "Unnamed: 0_y": [
          0,
          1,
          2,
          3,
          4
         ],
         "Year": [
          2019,
          2020,
          2021,
          2022,
          2019
         ],
         "comp_type": [
          "tech",
          "tech",
          "tech",
          "tech",
          "tech"
         ],
         "company": [
          "AAPL",
          "AAPL",
          "AAPL",
          "AAPL",
          "MSFT"
         ],
         "index": [
          0,
          1,
          2,
          3,
          4
         ],
         "leverage_ratio": [
          3.7410043321,
          4.9570394405,
          5.5635124425,
          6.9615369435,
          2.8003127138
         ]
        },
        "schema": {
         "fields": [
          {
           "name": "index",
           "type": "integer"
          },
          {
           "name": "Unnamed: 0_x",
           "type": "integer"
          },
          {
           "name": "Year",
           "type": "integer"
          },
          {
           "name": "comp_type",
           "type": "string"
          },
          {
           "name": "company",
           "type": "string"
          },
          {
           "name": "Accounts Payable",
           "type": "integer"
          },
          {
           "name": "Cash",
           "type": "integer"
          },
          {
           "name": "Inventory",
           "type": "number"
          },
          {
           "name": "Property Plant Equipment",
           "type": "integer"
          },
          {
           "name": "Short Term Investments",
           "type": "number"
          },
          {
           "name": "Total Assets",
           "type": "integer"
          },
          {
           "name": "Total Current Assets",
           "type": "integer"
          },
          {
           "name": "Total Current Liabilities",
           "type": "integer"
          },
          {
           "name": "Total Liab",
           "type": "integer"
          },
          {
           "name": "Total Stockholder Equity",
           "type": "integer"
          },
          {
           "name": "Unnamed: 0_y",
           "type": "integer"
          },
          {
           "name": "Cost Of Goods Sold",
           "type": "integer"
          },
          {
           "name": "Gross Profit",
           "type": "integer"
          },
          {
           "name": "Operating Income",
           "type": "integer"
          },
          {
           "name": "Total Operating Expenses",
           "type": "integer"
          },
          {
           "name": "Total Revenue",
           "type": "integer"
          },
          {
           "name": "leverage_ratio",
           "type": "number"
          }
         ],
         "pandas_version": "1.4.0",
         "primaryKey": [
          "index"
         ]
        }
       },
       "total_rows": 5,
       "truncation_type": null
      },
      "text/html": [
       "<div>\n",
       "<style scoped>\n",
       "    .dataframe tbody tr th:only-of-type {\n",
       "        vertical-align: middle;\n",
       "    }\n",
       "\n",
       "    .dataframe tbody tr th {\n",
       "        vertical-align: top;\n",
       "    }\n",
       "\n",
       "    .dataframe thead th {\n",
       "        text-align: right;\n",
       "    }\n",
       "</style>\n",
       "<table border=\"1\" class=\"dataframe\">\n",
       "  <thead>\n",
       "    <tr style=\"text-align: right;\">\n",
       "      <th></th>\n",
       "      <th>Unnamed: 0_x</th>\n",
       "      <th>Year</th>\n",
       "      <th>comp_type</th>\n",
       "      <th>company</th>\n",
       "      <th>Accounts Payable</th>\n",
       "      <th>Cash</th>\n",
       "      <th>Inventory</th>\n",
       "      <th>Property Plant Equipment</th>\n",
       "      <th>Short Term Investments</th>\n",
       "      <th>Total Assets</th>\n",
       "      <th>Total Current Assets</th>\n",
       "      <th>Total Current Liabilities</th>\n",
       "      <th>Total Liab</th>\n",
       "      <th>Total Stockholder Equity</th>\n",
       "      <th>Unnamed: 0_y</th>\n",
       "      <th>Cost Of Goods Sold</th>\n",
       "      <th>Gross Profit</th>\n",
       "      <th>Operating Income</th>\n",
       "      <th>Total Operating Expenses</th>\n",
       "      <th>Total Revenue</th>\n",
       "      <th>leverage_ratio</th>\n",
       "    </tr>\n",
       "  </thead>\n",
       "  <tbody>\n",
       "    <tr>\n",
       "      <th>0</th>\n",
       "      <td>0</td>\n",
       "      <td>2019</td>\n",
       "      <td>tech</td>\n",
       "      <td>AAPL</td>\n",
       "      <td>46236000000</td>\n",
       "      <td>48844000000</td>\n",
       "      <td>4.106000e+09</td>\n",
       "      <td>37378000000</td>\n",
       "      <td>5.171300e+10</td>\n",
       "      <td>338516000000</td>\n",
       "      <td>162819000000</td>\n",
       "      <td>105718000000</td>\n",
       "      <td>248028000000</td>\n",
       "      <td>90488000000</td>\n",
       "      <td>0</td>\n",
       "      <td>161782000000</td>\n",
       "      <td>98392000000</td>\n",
       "      <td>63930000000</td>\n",
       "      <td>196244000000</td>\n",
       "      <td>260174000000</td>\n",
       "      <td>3.741004</td>\n",
       "    </tr>\n",
       "    <tr>\n",
       "      <th>1</th>\n",
       "      <td>1</td>\n",
       "      <td>2020</td>\n",
       "      <td>tech</td>\n",
       "      <td>AAPL</td>\n",
       "      <td>42296000000</td>\n",
       "      <td>38016000000</td>\n",
       "      <td>4.061000e+09</td>\n",
       "      <td>45336000000</td>\n",
       "      <td>5.292700e+10</td>\n",
       "      <td>323888000000</td>\n",
       "      <td>143713000000</td>\n",
       "      <td>105392000000</td>\n",
       "      <td>258549000000</td>\n",
       "      <td>65339000000</td>\n",
       "      <td>1</td>\n",
       "      <td>169559000000</td>\n",
       "      <td>104956000000</td>\n",
       "      <td>66288000000</td>\n",
       "      <td>208227000000</td>\n",
       "      <td>274515000000</td>\n",
       "      <td>4.957039</td>\n",
       "    </tr>\n",
       "    <tr>\n",
       "      <th>2</th>\n",
       "      <td>2</td>\n",
       "      <td>2021</td>\n",
       "      <td>tech</td>\n",
       "      <td>AAPL</td>\n",
       "      <td>54763000000</td>\n",
       "      <td>34940000000</td>\n",
       "      <td>6.580000e+09</td>\n",
       "      <td>49527000000</td>\n",
       "      <td>2.769900e+10</td>\n",
       "      <td>351002000000</td>\n",
       "      <td>134836000000</td>\n",
       "      <td>125481000000</td>\n",
       "      <td>287912000000</td>\n",
       "      <td>63090000000</td>\n",
       "      <td>2</td>\n",
       "      <td>212981000000</td>\n",
       "      <td>152836000000</td>\n",
       "      <td>108949000000</td>\n",
       "      <td>256868000000</td>\n",
       "      <td>365817000000</td>\n",
       "      <td>5.563512</td>\n",
       "    </tr>\n",
       "    <tr>\n",
       "      <th>3</th>\n",
       "      <td>3</td>\n",
       "      <td>2022</td>\n",
       "      <td>tech</td>\n",
       "      <td>AAPL</td>\n",
       "      <td>64115000000</td>\n",
       "      <td>23646000000</td>\n",
       "      <td>4.946000e+09</td>\n",
       "      <td>84234000000</td>\n",
       "      <td>2.465800e+10</td>\n",
       "      <td>352755000000</td>\n",
       "      <td>135405000000</td>\n",
       "      <td>153982000000</td>\n",
       "      <td>302083000000</td>\n",
       "      <td>50672000000</td>\n",
       "      <td>3</td>\n",
       "      <td>223546000000</td>\n",
       "      <td>170782000000</td>\n",
       "      <td>119437000000</td>\n",
       "      <td>274891000000</td>\n",
       "      <td>394328000000</td>\n",
       "      <td>6.961537</td>\n",
       "    </tr>\n",
       "    <tr>\n",
       "      <th>4</th>\n",
       "      <td>4</td>\n",
       "      <td>2019</td>\n",
       "      <td>tech</td>\n",
       "      <td>MSFT</td>\n",
       "      <td>9382000000</td>\n",
       "      <td>11356000000</td>\n",
       "      <td>2.063000e+09</td>\n",
       "      <td>43856000000</td>\n",
       "      <td>1.224760e+11</td>\n",
       "      <td>286556000000</td>\n",
       "      <td>175552000000</td>\n",
       "      <td>69420000000</td>\n",
       "      <td>184226000000</td>\n",
       "      <td>102330000000</td>\n",
       "      <td>4</td>\n",
       "      <td>42910000000</td>\n",
       "      <td>82933000000</td>\n",
       "      <td>42959000000</td>\n",
       "      <td>82884000000</td>\n",
       "      <td>125843000000</td>\n",
       "      <td>2.800313</td>\n",
       "    </tr>\n",
       "  </tbody>\n",
       "</table>\n",
       "</div>"
      ],
      "text/plain": [
       "   Unnamed: 0_x  Year  ... Total Revenue leverage_ratio\n",
       "0             0  2019  ...  260174000000       3.741004\n",
       "1             1  2020  ...  274515000000       4.957039\n",
       "2             2  2021  ...  365817000000       5.563512\n",
       "3             3  2022  ...  394328000000       6.961537\n",
       "4             4  2019  ...  125843000000       2.800313\n",
       "\n",
       "[5 rows x 21 columns]"
      ]
     },
     "execution_count": 97,
     "metadata": {
      "application/com.datacamp.data-table.v2+json": {
       "status": "success"
      }
     },
     "output_type": "execute_result"
    }
   ],
   "source": [
    "df_ratios[\"leverage_ratio\"] = df_ratios[\"Total Assets\"]/df_ratios[\"Total Stockholder Equity\"]\n",
    "df_ratios.head()"
   ]
  },
  {
   "cell_type": "code",
   "execution_count": 98,
   "id": "ad1f5de2-7edc-4e68-8062-86f1a44354d1",
   "metadata": {
    "executionCancelledAt": null,
    "executionTime": 51,
    "lastExecutedAt": 1739109661172,
    "lastExecutedByKernel": "a7a199a3-c06b-45e7-905c-a0b5190ca34f",
    "lastScheduledRunId": null,
    "lastSuccessfullyExecutedCode": "df_ratios[\"profitability_ratio\"] = (df_ratios[\"Total Revenue\"] - df_ratios[\"Cost Of Goods Sold\"]) / df_ratios[\"Total Revenue\"]\ndf_ratios.head()",
    "outputsMetadata": {
     "0": {
      "height": 50,
      "tableState": {
       "customFilter": {
        "const": {
         "type": "boolean",
         "valid": true,
         "value": true
        },
        "id": "ecb6c4cd-b4e6-4d3b-a068-35adfa7af095",
        "nodeType": "const"
       },
       "quickFilterText": ""
      },
      "type": "dataFrame"
     }
    }
   },
   "outputs": [
    {
     "data": {
      "application/com.datacamp.data-table.v2+json": {
       "table": {
        "data": {
         "Accounts Payable": [
          46236000000,
          42296000000,
          54763000000,
          64115000000,
          9382000000
         ],
         "Cash": [
          48844000000,
          38016000000,
          34940000000,
          23646000000,
          11356000000
         ],
         "Cost Of Goods Sold": [
          161782000000,
          169559000000,
          212981000000,
          223546000000,
          42910000000
         ],
         "Gross Profit": [
          98392000000,
          104956000000,
          152836000000,
          170782000000,
          82933000000
         ],
         "Inventory": [
          4106000000,
          4061000000,
          6580000000,
          4946000000,
          2063000000
         ],
         "Operating Income": [
          63930000000,
          66288000000,
          108949000000,
          119437000000,
          42959000000
         ],
         "Property Plant Equipment": [
          37378000000,
          45336000000,
          49527000000,
          84234000000,
          43856000000
         ],
         "Short Term Investments": [
          51713000000,
          52927000000,
          27699000000,
          24658000000,
          122476000000
         ],
         "Total Assets": [
          338516000000,
          323888000000,
          351002000000,
          352755000000,
          286556000000
         ],
         "Total Current Assets": [
          162819000000,
          143713000000,
          134836000000,
          135405000000,
          175552000000
         ],
         "Total Current Liabilities": [
          105718000000,
          105392000000,
          125481000000,
          153982000000,
          69420000000
         ],
         "Total Liab": [
          248028000000,
          258549000000,
          287912000000,
          302083000000,
          184226000000
         ],
         "Total Operating Expenses": [
          196244000000,
          208227000000,
          256868000000,
          274891000000,
          82884000000
         ],
         "Total Revenue": [
          260174000000,
          274515000000,
          365817000000,
          394328000000,
          125843000000
         ],
         "Total Stockholder Equity": [
          90488000000,
          65339000000,
          63090000000,
          50672000000,
          102330000000
         ],
         "Unnamed: 0_x": [
          0,
          1,
          2,
          3,
          4
         ],
         "Unnamed: 0_y": [
          0,
          1,
          2,
          3,
          4
         ],
         "Year": [
          2019,
          2020,
          2021,
          2022,
          2019
         ],
         "comp_type": [
          "tech",
          "tech",
          "tech",
          "tech",
          "tech"
         ],
         "company": [
          "AAPL",
          "AAPL",
          "AAPL",
          "AAPL",
          "MSFT"
         ],
         "index": [
          0,
          1,
          2,
          3,
          4
         ],
         "leverage_ratio": [
          3.7410043321,
          4.9570394405,
          5.5635124425,
          6.9615369435,
          2.8003127138
         ],
         "profitability_ratio": [
          0.3781776811,
          0.3823324773,
          0.4177935963,
          0.4330963056,
          0.659019572
         ]
        },
        "schema": {
         "fields": [
          {
           "name": "index",
           "type": "integer"
          },
          {
           "name": "Unnamed: 0_x",
           "type": "integer"
          },
          {
           "name": "Year",
           "type": "integer"
          },
          {
           "name": "comp_type",
           "type": "string"
          },
          {
           "name": "company",
           "type": "string"
          },
          {
           "name": "Accounts Payable",
           "type": "integer"
          },
          {
           "name": "Cash",
           "type": "integer"
          },
          {
           "name": "Inventory",
           "type": "number"
          },
          {
           "name": "Property Plant Equipment",
           "type": "integer"
          },
          {
           "name": "Short Term Investments",
           "type": "number"
          },
          {
           "name": "Total Assets",
           "type": "integer"
          },
          {
           "name": "Total Current Assets",
           "type": "integer"
          },
          {
           "name": "Total Current Liabilities",
           "type": "integer"
          },
          {
           "name": "Total Liab",
           "type": "integer"
          },
          {
           "name": "Total Stockholder Equity",
           "type": "integer"
          },
          {
           "name": "Unnamed: 0_y",
           "type": "integer"
          },
          {
           "name": "Cost Of Goods Sold",
           "type": "integer"
          },
          {
           "name": "Gross Profit",
           "type": "integer"
          },
          {
           "name": "Operating Income",
           "type": "integer"
          },
          {
           "name": "Total Operating Expenses",
           "type": "integer"
          },
          {
           "name": "Total Revenue",
           "type": "integer"
          },
          {
           "name": "leverage_ratio",
           "type": "number"
          },
          {
           "name": "profitability_ratio",
           "type": "number"
          }
         ],
         "pandas_version": "1.4.0",
         "primaryKey": [
          "index"
         ]
        }
       },
       "total_rows": 5,
       "truncation_type": null
      },
      "text/html": [
       "<div>\n",
       "<style scoped>\n",
       "    .dataframe tbody tr th:only-of-type {\n",
       "        vertical-align: middle;\n",
       "    }\n",
       "\n",
       "    .dataframe tbody tr th {\n",
       "        vertical-align: top;\n",
       "    }\n",
       "\n",
       "    .dataframe thead th {\n",
       "        text-align: right;\n",
       "    }\n",
       "</style>\n",
       "<table border=\"1\" class=\"dataframe\">\n",
       "  <thead>\n",
       "    <tr style=\"text-align: right;\">\n",
       "      <th></th>\n",
       "      <th>Unnamed: 0_x</th>\n",
       "      <th>Year</th>\n",
       "      <th>comp_type</th>\n",
       "      <th>company</th>\n",
       "      <th>Accounts Payable</th>\n",
       "      <th>Cash</th>\n",
       "      <th>Inventory</th>\n",
       "      <th>Property Plant Equipment</th>\n",
       "      <th>Short Term Investments</th>\n",
       "      <th>Total Assets</th>\n",
       "      <th>Total Current Assets</th>\n",
       "      <th>Total Current Liabilities</th>\n",
       "      <th>Total Liab</th>\n",
       "      <th>Total Stockholder Equity</th>\n",
       "      <th>Unnamed: 0_y</th>\n",
       "      <th>Cost Of Goods Sold</th>\n",
       "      <th>Gross Profit</th>\n",
       "      <th>Operating Income</th>\n",
       "      <th>Total Operating Expenses</th>\n",
       "      <th>Total Revenue</th>\n",
       "      <th>leverage_ratio</th>\n",
       "      <th>profitability_ratio</th>\n",
       "    </tr>\n",
       "  </thead>\n",
       "  <tbody>\n",
       "    <tr>\n",
       "      <th>0</th>\n",
       "      <td>0</td>\n",
       "      <td>2019</td>\n",
       "      <td>tech</td>\n",
       "      <td>AAPL</td>\n",
       "      <td>46236000000</td>\n",
       "      <td>48844000000</td>\n",
       "      <td>4.106000e+09</td>\n",
       "      <td>37378000000</td>\n",
       "      <td>5.171300e+10</td>\n",
       "      <td>338516000000</td>\n",
       "      <td>162819000000</td>\n",
       "      <td>105718000000</td>\n",
       "      <td>248028000000</td>\n",
       "      <td>90488000000</td>\n",
       "      <td>0</td>\n",
       "      <td>161782000000</td>\n",
       "      <td>98392000000</td>\n",
       "      <td>63930000000</td>\n",
       "      <td>196244000000</td>\n",
       "      <td>260174000000</td>\n",
       "      <td>3.741004</td>\n",
       "      <td>0.378178</td>\n",
       "    </tr>\n",
       "    <tr>\n",
       "      <th>1</th>\n",
       "      <td>1</td>\n",
       "      <td>2020</td>\n",
       "      <td>tech</td>\n",
       "      <td>AAPL</td>\n",
       "      <td>42296000000</td>\n",
       "      <td>38016000000</td>\n",
       "      <td>4.061000e+09</td>\n",
       "      <td>45336000000</td>\n",
       "      <td>5.292700e+10</td>\n",
       "      <td>323888000000</td>\n",
       "      <td>143713000000</td>\n",
       "      <td>105392000000</td>\n",
       "      <td>258549000000</td>\n",
       "      <td>65339000000</td>\n",
       "      <td>1</td>\n",
       "      <td>169559000000</td>\n",
       "      <td>104956000000</td>\n",
       "      <td>66288000000</td>\n",
       "      <td>208227000000</td>\n",
       "      <td>274515000000</td>\n",
       "      <td>4.957039</td>\n",
       "      <td>0.382332</td>\n",
       "    </tr>\n",
       "    <tr>\n",
       "      <th>2</th>\n",
       "      <td>2</td>\n",
       "      <td>2021</td>\n",
       "      <td>tech</td>\n",
       "      <td>AAPL</td>\n",
       "      <td>54763000000</td>\n",
       "      <td>34940000000</td>\n",
       "      <td>6.580000e+09</td>\n",
       "      <td>49527000000</td>\n",
       "      <td>2.769900e+10</td>\n",
       "      <td>351002000000</td>\n",
       "      <td>134836000000</td>\n",
       "      <td>125481000000</td>\n",
       "      <td>287912000000</td>\n",
       "      <td>63090000000</td>\n",
       "      <td>2</td>\n",
       "      <td>212981000000</td>\n",
       "      <td>152836000000</td>\n",
       "      <td>108949000000</td>\n",
       "      <td>256868000000</td>\n",
       "      <td>365817000000</td>\n",
       "      <td>5.563512</td>\n",
       "      <td>0.417794</td>\n",
       "    </tr>\n",
       "    <tr>\n",
       "      <th>3</th>\n",
       "      <td>3</td>\n",
       "      <td>2022</td>\n",
       "      <td>tech</td>\n",
       "      <td>AAPL</td>\n",
       "      <td>64115000000</td>\n",
       "      <td>23646000000</td>\n",
       "      <td>4.946000e+09</td>\n",
       "      <td>84234000000</td>\n",
       "      <td>2.465800e+10</td>\n",
       "      <td>352755000000</td>\n",
       "      <td>135405000000</td>\n",
       "      <td>153982000000</td>\n",
       "      <td>302083000000</td>\n",
       "      <td>50672000000</td>\n",
       "      <td>3</td>\n",
       "      <td>223546000000</td>\n",
       "      <td>170782000000</td>\n",
       "      <td>119437000000</td>\n",
       "      <td>274891000000</td>\n",
       "      <td>394328000000</td>\n",
       "      <td>6.961537</td>\n",
       "      <td>0.433096</td>\n",
       "    </tr>\n",
       "    <tr>\n",
       "      <th>4</th>\n",
       "      <td>4</td>\n",
       "      <td>2019</td>\n",
       "      <td>tech</td>\n",
       "      <td>MSFT</td>\n",
       "      <td>9382000000</td>\n",
       "      <td>11356000000</td>\n",
       "      <td>2.063000e+09</td>\n",
       "      <td>43856000000</td>\n",
       "      <td>1.224760e+11</td>\n",
       "      <td>286556000000</td>\n",
       "      <td>175552000000</td>\n",
       "      <td>69420000000</td>\n",
       "      <td>184226000000</td>\n",
       "      <td>102330000000</td>\n",
       "      <td>4</td>\n",
       "      <td>42910000000</td>\n",
       "      <td>82933000000</td>\n",
       "      <td>42959000000</td>\n",
       "      <td>82884000000</td>\n",
       "      <td>125843000000</td>\n",
       "      <td>2.800313</td>\n",
       "      <td>0.659020</td>\n",
       "    </tr>\n",
       "  </tbody>\n",
       "</table>\n",
       "</div>"
      ],
      "text/plain": [
       "   Unnamed: 0_x  Year  ... leverage_ratio profitability_ratio\n",
       "0             0  2019  ...       3.741004            0.378178\n",
       "1             1  2020  ...       4.957039            0.382332\n",
       "2             2  2021  ...       5.563512            0.417794\n",
       "3             3  2022  ...       6.961537            0.433096\n",
       "4             4  2019  ...       2.800313            0.659020\n",
       "\n",
       "[5 rows x 22 columns]"
      ]
     },
     "execution_count": 98,
     "metadata": {
      "application/com.datacamp.data-table.v2+json": {
       "status": "success"
      }
     },
     "output_type": "execute_result"
    }
   ],
   "source": [
    "df_ratios[\"profitability_ratio\"] = (df_ratios[\"Total Revenue\"] - df_ratios[\"Cost Of Goods Sold\"]) / df_ratios[\"Total Revenue\"]\n",
    "df_ratios.head()"
   ]
  },
  {
   "cell_type": "code",
   "execution_count": 99,
   "id": "0ff42c12-7882-437e-a75c-664ea165ca8d",
   "metadata": {
    "executionCancelledAt": null,
    "executionTime": null,
    "lastExecutedAt": null,
    "lastExecutedByKernel": null,
    "lastScheduledRunId": null,
    "lastSuccessfullyExecutedCode": null,
    "outputsMetadata": {
     "0": {
      "height": 50,
      "tableState": {
       "customFilter": {
        "const": {
         "type": "boolean",
         "valid": true,
         "value": true
        },
        "id": "ecb6c4cd-b4e6-4d3b-a068-35adfa7af095",
        "nodeType": "const"
       },
       "quickFilterText": ""
      },
      "type": "dataFrame"
     }
    }
   },
   "outputs": [
    {
     "data": {
      "application/com.datacamp.data-table.v2+json": {
       "table": {
        "data": {
         "comp_type": [
          "tech",
          "tech",
          "tech",
          "tech",
          "tech"
         ],
         "equity_multiplier": [
          3.7410043321,
          4.9570394405,
          5.5635124425,
          6.9615369435,
          2.8003127138
         ],
         "index": [
          0,
          1,
          2,
          3,
          4
         ]
        },
        "schema": {
         "fields": [
          {
           "name": "index",
           "type": "integer"
          },
          {
           "name": "comp_type",
           "type": "string"
          },
          {
           "name": "equity_multiplier",
           "type": "number"
          }
         ],
         "pandas_version": "1.4.0",
         "primaryKey": [
          "index"
         ]
        }
       },
       "total_rows": 5,
       "truncation_type": null
      },
      "text/html": [
       "<div>\n",
       "<style scoped>\n",
       "    .dataframe tbody tr th:only-of-type {\n",
       "        vertical-align: middle;\n",
       "    }\n",
       "\n",
       "    .dataframe tbody tr th {\n",
       "        vertical-align: top;\n",
       "    }\n",
       "\n",
       "    .dataframe thead th {\n",
       "        text-align: right;\n",
       "    }\n",
       "</style>\n",
       "<table border=\"1\" class=\"dataframe\">\n",
       "  <thead>\n",
       "    <tr style=\"text-align: right;\">\n",
       "      <th></th>\n",
       "      <th>comp_type</th>\n",
       "      <th>equity_multiplier</th>\n",
       "    </tr>\n",
       "  </thead>\n",
       "  <tbody>\n",
       "    <tr>\n",
       "      <th>0</th>\n",
       "      <td>tech</td>\n",
       "      <td>3.741004</td>\n",
       "    </tr>\n",
       "    <tr>\n",
       "      <th>1</th>\n",
       "      <td>tech</td>\n",
       "      <td>4.957039</td>\n",
       "    </tr>\n",
       "    <tr>\n",
       "      <th>2</th>\n",
       "      <td>tech</td>\n",
       "      <td>5.563512</td>\n",
       "    </tr>\n",
       "    <tr>\n",
       "      <th>3</th>\n",
       "      <td>tech</td>\n",
       "      <td>6.961537</td>\n",
       "    </tr>\n",
       "    <tr>\n",
       "      <th>4</th>\n",
       "      <td>tech</td>\n",
       "      <td>2.800313</td>\n",
       "    </tr>\n",
       "  </tbody>\n",
       "</table>\n",
       "</div>"
      ],
      "text/plain": [
       "  comp_type  equity_multiplier\n",
       "0      tech           3.741004\n",
       "1      tech           4.957039\n",
       "2      tech           5.563512\n",
       "3      tech           6.961537\n",
       "4      tech           2.800313"
      ]
     },
     "execution_count": 99,
     "metadata": {
      "application/com.datacamp.data-table.v2+json": {
       "status": "success"
      }
     },
     "output_type": "execute_result"
    }
   ],
   "source": [
    "df = df_ratios[[\"comp_type\"]].copy()\n",
    "df[\"equity_multiplier\"] = df_ratios[\"leverage_ratio\"]\n",
    "df.head()"
   ]
  },
  {
   "cell_type": "code",
   "execution_count": 100,
   "id": "6b48ed41-8556-4898-ad23-a1d0773c0d59",
   "metadata": {
    "executionCancelledAt": null,
    "executionTime": 56,
    "lastExecutedAt": 1739109661276,
    "lastExecutedByKernel": "a7a199a3-c06b-45e7-905c-a0b5190ca34f",
    "lastScheduledRunId": null,
    "lastSuccessfullyExecutedCode": "lowest_profitability = df_ratios.groupby(\"comp_type\")[\"profitability_ratio\"].mean().idxmin()\nlowest_profitability",
    "outputsMetadata": {
     "0": {
      "height": 59,
      "type": "stream"
     }
    }
   },
   "outputs": [
    {
     "data": {
      "text/plain": [
       "'fmcg'"
      ]
     },
     "execution_count": 100,
     "metadata": {},
     "output_type": "execute_result"
    }
   ],
   "source": [
    "lowest_profitability = df_ratios.groupby(\"comp_type\")[\"profitability_ratio\"].mean().idxmin()\n",
    "lowest_profitability"
   ]
  },
  {
   "cell_type": "code",
   "execution_count": 101,
   "id": "67232760-d858-4289-aad1-f3990b0740d1",
   "metadata": {
    "executionCancelledAt": null,
    "executionTime": 52,
    "lastExecutedAt": 1739109661328,
    "lastExecutedByKernel": "a7a199a3-c06b-45e7-905c-a0b5190ca34f",
    "lastScheduledRunId": null,
    "lastSuccessfullyExecutedCode": "highest_leverage = df_ratios.groupby(\"comp_type\")[\"leverage_ratio\"].mean().idxmax()\nhighest_leverage"
   },
   "outputs": [
    {
     "data": {
      "text/plain": [
       "'real_est'"
      ]
     },
     "execution_count": 101,
     "metadata": {},
     "output_type": "execute_result"
    }
   ],
   "source": [
    "highest_leverage = df_ratios.groupby(\"comp_type\")[\"leverage_ratio\"].mean().idxmax()\n",
    "highest_leverage"
   ]
  },
  {
   "cell_type": "code",
   "execution_count": 102,
   "id": "93df911e-989e-4544-aeab-3d2ae0363e52",
   "metadata": {
    "executionCancelledAt": null,
    "executionTime": 52,
    "lastExecutedAt": 1739109661380,
    "lastExecutedByKernel": "a7a199a3-c06b-45e7-905c-a0b5190ca34f",
    "lastScheduledRunId": null,
    "lastSuccessfullyExecutedCode": "relationship = df_ratios[df_ratios[\"comp_type\"] == \"real_est\"][[\"leverage_ratio\", \"profitability_ratio\"]].corr().iloc[0, 1]\n\nif relationship > 0:\n    relationship = \"positive\"\nelif relationship < 0:\n    relationship = \"negative\"\nelse:\n    relationship = \"no relationship\"\n    \nrelationship"
   },
   "outputs": [
    {
     "data": {
      "text/plain": [
       "'positive'"
      ]
     },
     "execution_count": 102,
     "metadata": {},
     "output_type": "execute_result"
    }
   ],
   "source": [
    "relationship = df_ratios[df_ratios[\"comp_type\"] == \"real_est\"][[\"leverage_ratio\", \"profitability_ratio\"]].corr().iloc[0, 1]\n",
    "\n",
    "if relationship > 0:\n",
    "    relationship = \"positive\"\n",
    "elif relationship < 0:\n",
    "    relationship = \"negative\"\n",
    "else:\n",
    "    relationship = \"no relationship\"\n",
    "    \n",
    "relationship"
   ]
  },
  {
   "cell_type": "code",
   "execution_count": 103,
   "id": "662d9d9f-8e51-4236-ad79-f53323751714",
   "metadata": {
    "executionCancelledAt": null,
    "executionTime": 56,
    "lastExecutedAt": 1739109661436,
    "lastExecutedByKernel": "a7a199a3-c06b-45e7-905c-a0b5190ca34f",
    "lastScheduledRunId": null,
    "lastSuccessfullyExecutedCode": "df.pivot_table(index=\"comp_type\", values=\"equity_multiplier\")",
    "outputsMetadata": {
     "0": {
      "height": 50,
      "tableState": {
       "customFilter": {
        "const": {
         "type": "boolean",
         "valid": true,
         "value": true
        },
        "id": "ecb6c4cd-b4e6-4d3b-a068-35adfa7af095",
        "nodeType": "const"
       },
       "quickFilterText": ""
      },
      "type": "dataFrame"
     }
    }
   },
   "outputs": [
    {
     "data": {
      "application/com.datacamp.data-table.v2+json": {
       "table": {
        "data": {
         "comp_type": [
          "fmcg",
          "real_est",
          "tech"
         ],
         "equity_multiplier": [
          4.0497837351,
          7.3534756841,
          2.7774477093
         ]
        },
        "schema": {
         "fields": [
          {
           "name": "comp_type",
           "type": "string"
          },
          {
           "name": "equity_multiplier",
           "type": "number"
          }
         ],
         "pandas_version": "1.4.0",
         "primaryKey": [
          "comp_type"
         ]
        }
       },
       "total_rows": 3,
       "truncation_type": null
      },
      "text/html": [
       "<div>\n",
       "<style scoped>\n",
       "    .dataframe tbody tr th:only-of-type {\n",
       "        vertical-align: middle;\n",
       "    }\n",
       "\n",
       "    .dataframe tbody tr th {\n",
       "        vertical-align: top;\n",
       "    }\n",
       "\n",
       "    .dataframe thead th {\n",
       "        text-align: right;\n",
       "    }\n",
       "</style>\n",
       "<table border=\"1\" class=\"dataframe\">\n",
       "  <thead>\n",
       "    <tr style=\"text-align: right;\">\n",
       "      <th></th>\n",
       "      <th>equity_multiplier</th>\n",
       "    </tr>\n",
       "    <tr>\n",
       "      <th>comp_type</th>\n",
       "      <th></th>\n",
       "    </tr>\n",
       "  </thead>\n",
       "  <tbody>\n",
       "    <tr>\n",
       "      <th>fmcg</th>\n",
       "      <td>4.049784</td>\n",
       "    </tr>\n",
       "    <tr>\n",
       "      <th>real_est</th>\n",
       "      <td>7.353476</td>\n",
       "    </tr>\n",
       "    <tr>\n",
       "      <th>tech</th>\n",
       "      <td>2.777448</td>\n",
       "    </tr>\n",
       "  </tbody>\n",
       "</table>\n",
       "</div>"
      ],
      "text/plain": [
       "           equity_multiplier\n",
       "comp_type                   \n",
       "fmcg                4.049784\n",
       "real_est            7.353476\n",
       "tech                2.777448"
      ]
     },
     "execution_count": 103,
     "metadata": {
      "application/com.datacamp.data-table.v2+json": {
       "status": "success"
      }
     },
     "output_type": "execute_result"
    }
   ],
   "source": [
    "df.pivot_table(index=\"comp_type\", values=\"equity_multiplier\")"
   ]
  },
  {
   "cell_type": "code",
   "execution_count": 103,
   "id": "f1526540-573b-4919-8561-9dcec01cedba",
   "metadata": {
    "executionCancelledAt": null,
    "executionTime": 48,
    "lastExecutedAt": 1739109661484,
    "lastExecutedByKernel": "a7a199a3-c06b-45e7-905c-a0b5190ca34f",
    "lastScheduledRunId": null,
    "lastSuccessfullyExecutedCode": ""
   },
   "outputs": [],
   "source": []
  },
  {
   "cell_type": "code",
   "execution_count": 104,
   "id": "f17e2cc1-bd00-4ff4-b9da-9501ce5683c1",
   "metadata": {
    "chartConfig": {
     "bar": {
      "hasRoundedCorners": true,
      "stacked": false
     },
     "type": "line",
     "version": "v1",
     "x": {
      "field": "x_var",
      "type": "number"
     },
     "y": {
      "field": "y_var",
      "type": "number"
     }
    },
    "executionCancelledAt": null,
    "executionTime": 356,
    "lastExecutedAt": 1739109661840,
    "lastExecutedByKernel": "a7a199a3-c06b-45e7-905c-a0b5190ca34f",
    "lastScheduledRunId": null,
    "lastSuccessfullyExecutedCode": "import matplotlib.pyplot as plt\nimport seaborn as sns\n\n# 建立只包含相關欄位的 DataFrame\ndf_plot = df_ratios[[\"leverage_ratio\", \"profitability_ratio\"]].copy()\n\n# 繪製回歸圖\nplt.figure(figsize=(8, 6))\nsns.regplot(data=df_plot, x=\"leverage_ratio\", y=\"profitability_ratio\")  # 這裡的 x 軸應該是 \"leverage\"\n\n# 設定標題與標籤\nplt.title(\"Leverage vs. Profitability\")\nplt.xlabel(\"Leverage Ratio\")\nplt.ylabel(\"Profitability Ratio\")\n\n# 顯示圖表\nplt.show()",
    "outputsMetadata": {
     "0": {
      "height": 50,
      "tableState": {
       "customFilter": {
        "const": {
         "type": "boolean",
         "valid": true,
         "value": true
        },
        "id": "ecb6c4cd-b4e6-4d3b-a068-35adfa7af095",
        "nodeType": "const"
       },
       "quickFilterText": ""
      },
      "type": "dataFrame"
     }
    },
    "visualizeDataframe": false
   },
   "outputs": [
    {
     "data": {
      "image/png": "[encoded data removed]",
      "text/plain": [
       "<Figure size 800x600 with 1 Axes>"
      ]
     },
     "metadata": {
      "image/png": {
       "height": 546,
       "width": 690
      }
     },
     "output_type": "display_data"
    }
   ],
   "source": [
    "import matplotlib.pyplot as plt\n",
    "import seaborn as sns\n",
    "\n",
    "# 建立只包含相關欄位的 DataFrame\n",
    "df_plot = df_ratios[[\"leverage_ratio\", \"profitability_ratio\"]].copy()\n",
    "\n",
    "# 繪製回歸圖\n",
    "plt.figure(figsize=(8, 6))\n",
    "sns.regplot(data=df_plot, x=\"leverage_ratio\", y=\"profitability_ratio\")  # 這裡的 x 軸應該是 \"leverage\"\n",
    "\n",
    "# 設定標題與標籤\n",
    "plt.title(\"Leverage vs. Profitability\")\n",
    "plt.xlabel(\"Leverage Ratio\")\n",
    "plt.ylabel(\"Profitability Ratio\")\n",
    "\n",
    "# 顯示圖表\n",
    "plt.show()"
   ]
  }
 ],
 "metadata": {
  "colab": {
   "name": "Welcome to DataCamp Workspaces.ipynb",
   "provenance": []
  },
  "kernelspec": {
   "display_name": "Python 3 (ipykernel)",
   "language": "python",
   "name": "python3"
  },
  "language_info": {
   "codemirror_mode": {
    "name": "ipython",
    "version": 3
   },
   "file_extension": ".py",
   "mimetype": "text/x-python",
   "name": "python",
   "nbconvert_exporter": "python",
   "pygments_lexer": "ipython3",
   "version": "3.13.1"
  }
 },
 "nbformat": 4,
 "nbformat_minor": 5
}
